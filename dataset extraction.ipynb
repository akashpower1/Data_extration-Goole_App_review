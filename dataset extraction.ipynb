{
 "cells": [
  {
   "cell_type": "code",
   "execution_count": 1,
   "id": "c946a6e9",
   "metadata": {},
   "outputs": [],
   "source": [
    "import pandas as pd\n",
    "import numpy as np\n",
    "from google_play_scraper import Sort, reviews_all, reviews"
   ]
  },
  {
   "cell_type": "code",
   "execution_count": 30,
   "id": "af5bcbdd",
   "metadata": {},
   "outputs": [],
   "source": [
    "%timeit\n",
    "rev = reviews(\n",
    "    #'net.one97.paytm',\n",
    "    'com.google.android.apps.nbu.paisa.user',\n",
    "    lang='en', # defaults to 'en'\n",
    "    country='in', # defaults to 'us'\n",
    "    count= 100000,\n",
    "    sort=Sort.NEWEST, # defaults to Sort.MOST_RELEVANT\n",
    ")\n"
   ]
  },
  {
   "cell_type": "code",
   "execution_count": 31,
   "id": "4ccdb47f",
   "metadata": {},
   "outputs": [],
   "source": [
    "df = pd.DataFrame(np.array(rev[0]),columns=['review'])"
   ]
  },
  {
   "cell_type": "code",
   "execution_count": 32,
   "id": "40030a5e",
   "metadata": {},
   "outputs": [],
   "source": [
    "df = df.join(pd.DataFrame(df.pop('review').tolist()))"
   ]
  },
  {
   "cell_type": "code",
   "execution_count": 33,
   "id": "1ce95b95",
   "metadata": {},
   "outputs": [
    {
     "data": {
      "text/plain": [
       "Timestamp('2022-08-03 13:49:40')"
      ]
     },
     "execution_count": 33,
     "metadata": {},
     "output_type": "execute_result"
    }
   ],
   "source": [
    "min(df['at'])"
   ]
  },
  {
   "cell_type": "code",
   "execution_count": 34,
   "id": "aef89d8d",
   "metadata": {},
   "outputs": [
    {
     "data": {
      "text/html": [
       "<div>\n",
       "<style scoped>\n",
       "    .dataframe tbody tr th:only-of-type {\n",
       "        vertical-align: middle;\n",
       "    }\n",
       "\n",
       "    .dataframe tbody tr th {\n",
       "        vertical-align: top;\n",
       "    }\n",
       "\n",
       "    .dataframe thead th {\n",
       "        text-align: right;\n",
       "    }\n",
       "</style>\n",
       "<table border=\"1\" class=\"dataframe\">\n",
       "  <thead>\n",
       "    <tr style=\"text-align: right;\">\n",
       "      <th></th>\n",
       "      <th>reviewId</th>\n",
       "      <th>userName</th>\n",
       "      <th>userImage</th>\n",
       "      <th>content</th>\n",
       "      <th>score</th>\n",
       "      <th>thumbsUpCount</th>\n",
       "      <th>reviewCreatedVersion</th>\n",
       "      <th>at</th>\n",
       "      <th>replyContent</th>\n",
       "      <th>repliedAt</th>\n",
       "    </tr>\n",
       "  </thead>\n",
       "  <tbody>\n",
       "    <tr>\n",
       "      <th>0</th>\n",
       "      <td>7921a259-2405-4439-bda7-930e442c4907</td>\n",
       "      <td>Tarun Chauhan</td>\n",
       "      <td>https://play-lh.googleusercontent.com/a/AEdFTp...</td>\n",
       "      <td>Nice</td>\n",
       "      <td>5</td>\n",
       "      <td>0</td>\n",
       "      <td>69.0.001_RC03 (arm64-v8a)</td>\n",
       "      <td>2023-02-04 12:44:11</td>\n",
       "      <td>None</td>\n",
       "      <td>NaT</td>\n",
       "    </tr>\n",
       "    <tr>\n",
       "      <th>1</th>\n",
       "      <td>c73bb6d3-f037-4ee6-93c4-f8e2bfa5214f</td>\n",
       "      <td>Rohan Kumar Kumar</td>\n",
       "      <td>https://play-lh.googleusercontent.com/a/AEdFTp...</td>\n",
       "      <td>Rohankumar Vbccccxyvxgtckbycxx Bhjjcfm Hjhvfhh...</td>\n",
       "      <td>1</td>\n",
       "      <td>0</td>\n",
       "      <td>None</td>\n",
       "      <td>2023-02-04 12:40:09</td>\n",
       "      <td>None</td>\n",
       "      <td>NaT</td>\n",
       "    </tr>\n",
       "    <tr>\n",
       "      <th>2</th>\n",
       "      <td>caa80ea3-5e94-442a-942b-cea8af8d7e46</td>\n",
       "      <td>sukh choudhary</td>\n",
       "      <td>https://play-lh.googleusercontent.com/a-/AD5-W...</td>\n",
       "      <td>Good application</td>\n",
       "      <td>5</td>\n",
       "      <td>0</td>\n",
       "      <td>170.1.5 (armeabi-v7a_release_flutter)</td>\n",
       "      <td>2023-02-04 12:38:48</td>\n",
       "      <td>None</td>\n",
       "      <td>NaT</td>\n",
       "    </tr>\n",
       "    <tr>\n",
       "      <th>3</th>\n",
       "      <td>2dac18c3-69c4-46dd-ae62-9b31eceececc</td>\n",
       "      <td>Bobby Mehra</td>\n",
       "      <td>https://play-lh.googleusercontent.com/a/AEdFTp...</td>\n",
       "      <td>Bobi</td>\n",
       "      <td>1</td>\n",
       "      <td>0</td>\n",
       "      <td>170.1.5 (armeabi-v7a_release_flutter)</td>\n",
       "      <td>2023-02-04 12:38:11</td>\n",
       "      <td>None</td>\n",
       "      <td>NaT</td>\n",
       "    </tr>\n",
       "    <tr>\n",
       "      <th>4</th>\n",
       "      <td>dfe099b9-7290-47ff-8578-0047fd97308d</td>\n",
       "      <td>Sandeep Thakur</td>\n",
       "      <td>https://play-lh.googleusercontent.com/a/AEdFTp...</td>\n",
       "      <td>Tyt app</td>\n",
       "      <td>1</td>\n",
       "      <td>0</td>\n",
       "      <td>170.1.5 (arm64-v8a_release_flutter)</td>\n",
       "      <td>2023-02-04 12:33:42</td>\n",
       "      <td>None</td>\n",
       "      <td>NaT</td>\n",
       "    </tr>\n",
       "  </tbody>\n",
       "</table>\n",
       "</div>"
      ],
      "text/plain": [
       "                               reviewId           userName  \\\n",
       "0  7921a259-2405-4439-bda7-930e442c4907      Tarun Chauhan   \n",
       "1  c73bb6d3-f037-4ee6-93c4-f8e2bfa5214f  Rohan Kumar Kumar   \n",
       "2  caa80ea3-5e94-442a-942b-cea8af8d7e46     sukh choudhary   \n",
       "3  2dac18c3-69c4-46dd-ae62-9b31eceececc        Bobby Mehra   \n",
       "4  dfe099b9-7290-47ff-8578-0047fd97308d     Sandeep Thakur   \n",
       "\n",
       "                                           userImage  \\\n",
       "0  https://play-lh.googleusercontent.com/a/AEdFTp...   \n",
       "1  https://play-lh.googleusercontent.com/a/AEdFTp...   \n",
       "2  https://play-lh.googleusercontent.com/a-/AD5-W...   \n",
       "3  https://play-lh.googleusercontent.com/a/AEdFTp...   \n",
       "4  https://play-lh.googleusercontent.com/a/AEdFTp...   \n",
       "\n",
       "                                             content  score  thumbsUpCount  \\\n",
       "0                                               Nice      5              0   \n",
       "1  Rohankumar Vbccccxyvxgtckbycxx Bhjjcfm Hjhvfhh...      1              0   \n",
       "2                                   Good application      5              0   \n",
       "3                                               Bobi      1              0   \n",
       "4                                            Tyt app      1              0   \n",
       "\n",
       "                    reviewCreatedVersion                  at replyContent  \\\n",
       "0              69.0.001_RC03 (arm64-v8a) 2023-02-04 12:44:11         None   \n",
       "1                                   None 2023-02-04 12:40:09         None   \n",
       "2  170.1.5 (armeabi-v7a_release_flutter) 2023-02-04 12:38:48         None   \n",
       "3  170.1.5 (armeabi-v7a_release_flutter) 2023-02-04 12:38:11         None   \n",
       "4    170.1.5 (arm64-v8a_release_flutter) 2023-02-04 12:33:42         None   \n",
       "\n",
       "  repliedAt  \n",
       "0       NaT  \n",
       "1       NaT  \n",
       "2       NaT  \n",
       "3       NaT  \n",
       "4       NaT  "
      ]
     },
     "execution_count": 34,
     "metadata": {},
     "output_type": "execute_result"
    }
   ],
   "source": [
    "df.head()"
   ]
  },
  {
   "cell_type": "code",
   "execution_count": 35,
   "id": "2f986a5f",
   "metadata": {},
   "outputs": [],
   "source": [
    "import matplotlib.pyplot as plt\n",
    "import seaborn as sns"
   ]
  },
  {
   "cell_type": "code",
   "execution_count": 48,
   "id": "bd35d46c",
   "metadata": {},
   "outputs": [
    {
     "name": "stderr",
     "output_type": "stream",
     "text": [
      "/opt/anaconda3/lib/python3.9/site-packages/seaborn/distributions.py:2619: FutureWarning: `distplot` is a deprecated function and will be removed in a future version. Please adapt your code to use either `displot` (a figure-level function with similar flexibility) or `histplot` (an axes-level function for histograms).\n",
      "  warnings.warn(msg, FutureWarning)\n"
     ]
    },
    {
     "data": {
      "text/plain": [
       "<AxesSubplot:xlabel='score', ylabel='Density'>"
      ]
     },
     "execution_count": 48,
     "metadata": {},
     "output_type": "execute_result"
    },
    {
     "data": {
      "image/png": "[encoded data removed]",
      "text/plain": [
       "<Figure size 432x288 with 1 Axes>"
      ]
     },
     "metadata": {
      "needs_background": "light"
     },
     "output_type": "display_data"
    }
   ],
   "source": [
    "sns.distplot(df[df['content'].str.len()>10].score)"
   ]
  },
  {
   "cell_type": "code",
   "execution_count": 47,
   "id": "36231474",
   "metadata": {},
   "outputs": [
    {
     "data": {
      "text/plain": [
       "1        Rohankumar Vbccccxyvxgtckbycxx Bhjjcfm Hjhvfhh...\n",
       "2                                         Good application\n",
       "6                                     Not money transfared\n",
       "7              Does not scan gray QR codes internationally\n",
       "9        So many payment failures, such a buggy and pat...\n",
       "                               ...                        \n",
       "99986                   Hi excellent good better and wuick\n",
       "99990                                          Very useful\n",
       "99992                              Super fast transfer app\n",
       "99998               I have nice experience with Google pay\n",
       "99999    Very very dissapointed with the experience. Ev...\n",
       "Name: content, Length: 46679, dtype: object"
      ]
     },
     "execution_count": 47,
     "metadata": {},
     "output_type": "execute_result"
    }
   ],
   "source": [
    "df[df['content'].str.len()>10]['content']"
   ]
  },
  {
   "cell_type": "code",
   "execution_count": null,
   "id": "2411c5d9",
   "metadata": {},
   "outputs": [],
   "source": []
  }
 ],
 "metadata": {
  "kernelspec": {
   "display_name": "Python 3 (ipykernel)",
   "language": "python",
   "name": "python3"
  },
  "language_info": {
   "codemirror_mode": {
    "name": "ipython",
    "version": 3
   },
   "file_extension": ".py",
   "mimetype": "text/x-python",
   "name": "python",
   "nbconvert_exporter": "python",
   "pygments_lexer": "ipython3",
   "version": "3.9.7"
  }
 },
 "nbformat": 4,
 "nbformat_minor": 5
}
